{
 "cells": [
  {
   "cell_type": "markdown",
   "metadata": {},
   "source": [
    "Q1. Create the below pattern using nested for loop in Python."
   ]
  },
  {
   "cell_type": "code",
   "execution_count": 8,
   "metadata": {},
   "outputs": [
    {
     "name": "stdout",
     "output_type": "stream",
     "text": [
      "Ans 1.\n",
      "\n",
      "*\n",
      "**\n",
      "***\n",
      "****\n",
      "*****\n",
      "****\n",
      "***\n",
      "**\n",
      "*\n"
     ]
    }
   ],
   "source": [
    "print('Ans 1.')\n",
    "\n",
    "for row in range(5):\n",
    "    for col in range(row):\n",
    "        print('*',end='')\n",
    "    print('')\n",
    "for row in range(5):\n",
    "    for col in range(5-row):\n",
    "        print('*',end='')\n",
    "    print('')\n"
   ]
  },
  {
   "cell_type": "markdown",
   "metadata": {},
   "source": [
    "Q2. Write a Python program to reverse a word after accepting the input from the user.\n",
    "\n",
    "Input word: Ineuron\n",
    "\n",
    "Output: noruenI"
   ]
  },
  {
   "cell_type": "code",
   "execution_count": 11,
   "metadata": {},
   "outputs": [
    {
     "name": "stdout",
     "output_type": "stream",
     "text": [
      "Ans 2.\n",
      "Input word : ineuron\n",
      "Output : norueni\n"
     ]
    }
   ],
   "source": [
    "print('Ans 2.')\n",
    "\n",
    "word = input('Input word : ')\n",
    "print(f'Output : {word[::-1]}')"
   ]
  }
 ],
 "metadata": {
  "kernelspec": {
   "display_name": "Python 3",
   "language": "python",
   "name": "python3"
  },
  "language_info": {
   "codemirror_mode": {
    "name": "ipython",
    "version": 3
   },
   "file_extension": ".py",
   "mimetype": "text/x-python",
   "name": "python",
   "nbconvert_exporter": "python",
   "pygments_lexer": "ipython3",
   "version": "3.6.10"
  }
 },
 "nbformat": 4,
 "nbformat_minor": 4
}
