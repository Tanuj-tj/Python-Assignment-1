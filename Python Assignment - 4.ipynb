{
 "cells": [
  {
   "cell_type": "code",
   "execution_count": 19,
   "metadata": {},
   "outputs": [
    {
     "name": "stdout",
     "output_type": "stream",
     "text": [
      "s= 1\n",
      "a= 2\n",
      "b= 3\n",
      "c= 4\n",
      "(1.4998798865218462e-16+2.449489742783178j)\n"
     ]
    }
   ],
   "source": [
    "# Ans 1.1\n",
    "\n",
    "class side:\n",
    "    \n",
    "    def __init__(self , s,a,b,c):\n",
    "        self.s = s\n",
    "        self.a = a\n",
    "        self.b = b\n",
    "        self.c = c\n",
    "        s = input('s= ')\n",
    "        a= input('a= ')\n",
    "        b= input('b= ')\n",
    "        c= input('c= ')\n",
    "    \n",
    "    \n",
    "class area(side):\n",
    "    \n",
    "    def __init__(self,*args):\n",
    "        super(area,self).__init__(*args)\n",
    "        \n",
    "    def ar(self):\n",
    "        result = (self.s*(self.s-self.a)*(self.s-self.b)*(self.s-self.c)) ** 0.5\n",
    "        return result\n",
    "    \n",
    "x = area(1,2,3,4)\n",
    "print(x.ar())"
   ]
  },
  {
   "cell_type": "code",
   "execution_count": 18,
   "metadata": {},
   "outputs": [
    {
     "data": {
      "text/plain": [
       "['abc', 'tanuj']"
      ]
     },
     "execution_count": 18,
     "metadata": {},
     "output_type": "execute_result"
    }
   ],
   "source": [
    "# Ans 1.2\n",
    "\n",
    "def filter_long_words(word,num):\n",
    "    lst = []\n",
    "    for x in word:\n",
    "        if len(x) > num:\n",
    "            lst.append(x)\n",
    "    return lst\n",
    "        \n",
    "filter_long_words(['abc','tanuj'],2)"
   ]
  },
  {
   "cell_type": "code",
   "execution_count": 41,
   "metadata": {},
   "outputs": [
    {
     "data": {
      "text/plain": [
       "[3, 2]"
      ]
     },
     "execution_count": 41,
     "metadata": {},
     "output_type": "execute_result"
    }
   ],
   "source": [
    "# Ans 2.1\n",
    "\n",
    "def lenght(lst):\n",
    "    temp = []\n",
    "    for x in lst:\n",
    "        x = len(x)\n",
    "        temp.append(x)\n",
    "    return temp\n",
    "lenght(['aaa','cc'])\n",
    "    \n",
    "#list(map(lenght,['anb','s','dd']))"
   ]
  },
  {
   "cell_type": "code",
   "execution_count": 42,
   "metadata": {},
   "outputs": [
    {
     "data": {
      "text/plain": [
       "[3, 1, 2]"
      ]
     },
     "execution_count": 42,
     "metadata": {},
     "output_type": "execute_result"
    }
   ],
   "source": [
    "# Ans 2.1\n",
    "\n",
    "def l(lst):\n",
    "    return len(lst)\n",
    "    \n",
    "list(map(l,['anb','s','dd']))   "
   ]
  },
  {
   "cell_type": "code",
   "execution_count": 46,
   "metadata": {},
   "outputs": [
    {
     "name": "stdout",
     "output_type": "stream",
     "text": [
      "True\n",
      "False\n"
     ]
    }
   ],
   "source": [
    "# Ans 2.2\n",
    "\n",
    "def vowel(ch):\n",
    "    return ch in ['a','e','i','o','u']\n",
    "\n",
    "print(vowel('i'))\n",
    "print(vowel('q'))"
   ]
  },
  {
   "cell_type": "code",
   "execution_count": null,
   "metadata": {},
   "outputs": [],
   "source": []
  }
 ],
 "metadata": {
  "kernelspec": {
   "display_name": "Python 3",
   "language": "python",
   "name": "python3"
  },
  "language_info": {
   "codemirror_mode": {
    "name": "ipython",
    "version": 3
   },
   "file_extension": ".py",
   "mimetype": "text/x-python",
   "name": "python",
   "nbconvert_exporter": "python",
   "pygments_lexer": "ipython3",
   "version": "3.6.10"
  }
 },
 "nbformat": 4,
 "nbformat_minor": 4
}
